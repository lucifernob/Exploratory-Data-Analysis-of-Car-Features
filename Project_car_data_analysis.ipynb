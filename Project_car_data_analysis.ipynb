{
  "nbformat": 4,
  "nbformat_minor": 0,
  "metadata": {
    "colab": {
      "name": "Project car data analysis.ipynb",
      "provenance": [],
      "collapsed_sections": [],
      "authorship_tag": "ABX9TyO6ZNREOcjm1LCTHDmKp1bM",
      "include_colab_link": true
    },
    "kernelspec": {
      "name": "python3",
      "display_name": "Python 3"
    }
  },
  "cells": [
    {
      "cell_type": "markdown",
      "metadata": {
        "id": "view-in-github",
        "colab_type": "text"
      },
      "source": [
        "<a href=\"https://colab.research.google.com/github/lucifernob/Exploratory-Data-Analysis-of-Car-Features/blob/master/Project_car_data_analysis.ipynb\" target=\"_parent\"><img src=\"https://colab.research.google.com/assets/colab-badge.svg\" alt=\"Open In Colab\"/></a>"
      ]
    },
    {
      "cell_type": "markdown",
      "metadata": {
        "id": "PVBHjWSHLaIM",
        "colab_type": "text"
      },
      "source": [
        "### **Exploratory Data Analysis of Car Features**\n",
        "\n",
        "---\n"
      ]
    },
    {
      "cell_type": "markdown",
      "metadata": {
        "id": "txOHBj0enPui",
        "colab_type": "text"
      },
      "source": [
        "# **1. Importing libraries**\n",
        "\n",
        "Importing all the libraries which we will be required for the project."
      ]
    },
    {
      "cell_type": "code",
      "metadata": {
        "id": "EBRgLJ1mnHTL",
        "colab_type": "code",
        "colab": {}
      },
      "source": [
        "import pandas as pd\n",
        "import numpy as np\n",
        "import seaborn as sns                     #used for visualisation\n",
        "import matplotlib.pyplot as plt           #used for visualisation\n",
        "%matplotlib inline"
      ],
      "execution_count": null,
      "outputs": []
    },
    {
      "cell_type": "markdown",
      "metadata": {
        "id": "zfsDiCnSISMJ",
        "colab_type": "text"
      },
      "source": [
        "**1.1 Load data file**\n",
        "\n",
        "The data file is in .csv format and for importing there are 3 main methods: \n",
        "- From local drive\n",
        "- From URL\n",
        "- From google drive\n",
        "\n",
        "\n",
        "> *Note: Using \"import from local drive\" may require you to load data file every time you run the code, so import from google drive is better option.*\n",
        "\n"
      ]
    },
    {
      "cell_type": "code",
      "metadata": {
        "id": "bFwwELeeDgJT",
        "colab_type": "code",
        "colab": {}
      },
      "source": [
        "#Import data file from your google drive\n",
        "from google.colab import drive\n",
        "drive.mount(\"/content/gdrive\")\n",
        "\n",
        "import pandas as pd\n",
        "pd.read_csv('/content/gdrive/My Drive/Internship studio /Project/data.csv')                   #Copy the file path and replace with the given path"
      ],
      "execution_count": null,
      "outputs": []
    },
    {
      "cell_type": "code",
      "metadata": {
        "id": "eEraWMR6n6Zb",
        "colab_type": "code",
        "colab": {}
      },
      "source": [
        "#Import data file for local drive\n",
        "#from google.colab import files           \n",
        "#uploaded=files.upload()                      #it will create upload option to load your desired file form your local drive\n"
      ],
      "execution_count": null,
      "outputs": []
    },
    {
      "cell_type": "markdown",
      "metadata": {
        "id": "UTQsaCu8oZSq",
        "colab_type": "text"
      },
      "source": [
        "**1.2 Loading the data into the data**\n",
        "\n",
        "Load the required data file for data analysis, and check whether data is loaded properly."
      ]
    },
    {
      "cell_type": "code",
      "metadata": {
        "id": "JSyGIrFQoc9q",
        "colab_type": "code",
        "colab": {}
      },
      "source": [
        "import io\n",
        "df = pd.read_csv(io.BytesIO(uploaded['data.csv']))                            #Reading the file \"data.cv\""
      ],
      "execution_count": null,
      "outputs": []
    },
    {
      "cell_type": "code",
      "metadata": {
        "id": "paaM6YsMoqeS",
        "colab_type": "code",
        "colab": {}
      },
      "source": [
        "#To display the top 5 rows\n",
        "df.head(5)"
      ],
      "execution_count": null,
      "outputs": []
    },
    {
      "cell_type": "code",
      "metadata": {
        "id": "Q7FWyYibp0yh",
        "colab_type": "code",
        "colab": {}
      },
      "source": [
        "#To display the bottom 5 rows\n",
        "df.tail(5)"
      ],
      "execution_count": null,
      "outputs": []
    },
    {
      "cell_type": "markdown",
      "metadata": {
        "id": "RcymOJvTp6Wp",
        "colab_type": "text"
      },
      "source": [
        "**1.3 Checking the types of data and basic summary stats**\n",
        "\n",
        "Sometimes the data is not in correct format, like integer data is stored as string so we need to convert it, hence we check data type here.\n",
        "\n",
        "\n",
        "> Note: Don't procede furthere before checking data type.\n",
        "\n",
        "\n",
        "\n",
        "\n",
        "\n"
      ]
    },
    {
      "cell_type": "code",
      "metadata": {
        "id": "ZhhVOKoeqERi",
        "colab_type": "code",
        "colab": {}
      },
      "source": [
        "df.info()"
      ],
      "execution_count": null,
      "outputs": []
    },
    {
      "cell_type": "code",
      "metadata": {
        "id": "HyYNh1vbsGiM",
        "colab_type": "code",
        "colab": {}
      },
      "source": [
        "df.describe()"
      ],
      "execution_count": null,
      "outputs": []
    },
    {
      "cell_type": "markdown",
      "metadata": {
        "id": "DX1l2uVysU_Z",
        "colab_type": "text"
      },
      "source": [
        "# **2. Dropping irrelevant data**\n",
        "\n",
        "When we import data, sometimes irrlevant data is also there, so we will drop that column or row which is less relvant for us.\n",
        "\n",
        "\n",
        "> Dropping of irrelvant data can have multiple rows of same data, some missing values, so as per our need we can remove them or imput the new values, remember: More data we provide, More accurate result we will get. \n",
        "\n"
      ]
    },
    {
      "cell_type": "code",
      "metadata": {
        "id": "Jckpw-cTs276",
        "colab_type": "code",
        "colab": {}
      },
      "source": [
        "df=df.drop(['Number of Doors','Market Category','Engine Fuel Type'], axis=1) #axis is basically row, here from row ! drop the labelled column.\n",
        "df.head(5)"
      ],
      "execution_count": null,
      "outputs": []
    },
    {
      "cell_type": "markdown",
      "metadata": {
        "id": "N7gAUtMDwuDe",
        "colab_type": "text"
      },
      "source": [
        "#**3. Renaming the columns**\n",
        "Renaming the columns for the better understanding of data."
      ]
    },
    {
      "cell_type": "code",
      "metadata": {
        "id": "-QnaHZNI_tW3",
        "colab_type": "code",
        "colab": {}
      },
      "source": [
        "df=df.rename(columns={\"Engine HP\": \"HP\", \"Engine Cylinders\": \"Cylinders\", \"Transmission Type\": \"Transmission\", \"Driven_Wheels\": \"Drive Mode\",\"highway MPG\": \"MPG-H\", \"city mpg\": \"MPG-C\", \"MSRP\": \"Price\"})\n",
        "df.head(5)"
      ],
      "execution_count": null,
      "outputs": []
    },
    {
      "cell_type": "markdown",
      "metadata": {
        "id": "Uvz31baGA1a2",
        "colab_type": "text"
      },
      "source": [
        "#**4. Dropping duplicate rows**\n",
        "\n",
        "There is a chance of duplicate data or null values in large dataset so to removing them is better idea.\n",
        "\n",
        "> *Note: We are only dropping duplicate values not null values here.*\n",
        "\n",
        "\n"
      ]
    },
    {
      "cell_type": "code",
      "metadata": {
        "id": "V4TfOzu8BKF0",
        "colab_type": "code",
        "colab": {}
      },
      "source": [
        "df.shape             # size of data"
      ],
      "execution_count": null,
      "outputs": []
    },
    {
      "cell_type": "code",
      "metadata": {
        "id": "6XOEoIvuBXaz",
        "colab_type": "code",
        "colab": {}
      },
      "source": [
        "duplicate_rows_df=df[df.duplicated()]                             #Finding duplicate rows\n",
        "print(\"No. of duplicate rows= \", duplicate_rows_df.shape)         #Print how many rows with duplicate data are present."
      ],
      "execution_count": null,
      "outputs": []
    },
    {
      "cell_type": "code",
      "metadata": {
        "id": "laQDWY6aDH4A",
        "colab_type": "code",
        "colab": {}
      },
      "source": [
        "df=df.drop_duplicates()\n",
        "df.head(5)"
      ],
      "execution_count": null,
      "outputs": []
    },
    {
      "cell_type": "code",
      "metadata": {
        "id": "gUMVQoWVDbvm",
        "colab_type": "code",
        "colab": {}
      },
      "source": [
        "df.shape          #So we are left with less rows after removing suplicate rows."
      ],
      "execution_count": null,
      "outputs": []
    },
    {
      "cell_type": "markdown",
      "metadata": {
        "id": "YIs6BmV5Dtmz",
        "colab_type": "text"
      },
      "source": [
        "**4.1 Dropping the missing or null values**\n",
        "\n",
        "Similar to previous there is a chance of null values in large dataset so to removing them is better idea, the data set contain very few null values so we can remove them instead of adding.\n",
        "\n",
        "> *NOTE: Instead of removing the the null values we can also impute the values which are missing, this approach is better than dropping as more data give more accurate result.*\n",
        "> If we need to impute we imput with the medan values of that column and not mean it is more robust to outline.\n",
        "\n",
        "\n",
        "\n"
      ]
    },
    {
      "cell_type": "code",
      "metadata": {
        "id": "JtknnUhJEEqj",
        "colab_type": "code",
        "colab": {}
      },
      "source": [
        "print (df.isnull().sum())   #Printing the data with null vaues."
      ],
      "execution_count": null,
      "outputs": []
    },
    {
      "cell_type": "code",
      "metadata": {
        "id": "uXw75FMkFy6U",
        "colab_type": "code",
        "colab": {}
      },
      "source": [
        "df=df.dropna()          #Dropping the null values\n",
        "df.count()"
      ],
      "execution_count": null,
      "outputs": []
    },
    {
      "cell_type": "code",
      "metadata": {
        "id": "yIk6P3FFGZ9e",
        "colab_type": "code",
        "colab": {}
      },
      "source": [
        "print(df.isnull().sum())      "
      ],
      "execution_count": null,
      "outputs": []
    },
    {
      "cell_type": "markdown",
      "metadata": {
        "id": "C5qMTUprWnoh",
        "colab_type": "text"
      },
      "source": [
        "#**5. Detecting outliers**\n",
        "\n",
        "\n",
        "\n",
        "> We will use box and whisker plot to plot outliers\n",
        "\n"
      ]
    },
    {
      "cell_type": "code",
      "metadata": {
        "id": "RkAerGfhXCEc",
        "colab_type": "code",
        "colab": {}
      },
      "source": [
        "sns.boxplot(x=df['Year'])"
      ],
      "execution_count": null,
      "outputs": []
    },
    {
      "cell_type": "code",
      "metadata": {
        "id": "vacfFORNYE1K",
        "colab_type": "code",
        "colab": {}
      },
      "source": [
        "sns.boxplot(x=df['HP'])"
      ],
      "execution_count": null,
      "outputs": []
    },
    {
      "cell_type": "code",
      "metadata": {
        "id": "sBrY_F_PYHLd",
        "colab_type": "code",
        "colab": {}
      },
      "source": [
        "sns.boxplot(x=df['Cylinders'])"
      ],
      "execution_count": null,
      "outputs": []
    },
    {
      "cell_type": "code",
      "metadata": {
        "id": "J19Bll8YYLUz",
        "colab_type": "code",
        "colab": {}
      },
      "source": [
        "sns.boxplot(x=df['MPG-H'])"
      ],
      "execution_count": null,
      "outputs": []
    },
    {
      "cell_type": "code",
      "metadata": {
        "id": "7U_PSgJCY945",
        "colab_type": "code",
        "colab": {}
      },
      "source": [
        "sns.boxplot(x=df['MPG-C'])"
      ],
      "execution_count": null,
      "outputs": []
    },
    {
      "cell_type": "code",
      "metadata": {
        "id": "Mguwa7njZDWU",
        "colab_type": "code",
        "colab": {}
      },
      "source": [
        "sns.boxplot(x=df['Popularity'])"
      ],
      "execution_count": null,
      "outputs": []
    },
    {
      "cell_type": "code",
      "metadata": {
        "id": "OdFLymNiZKP7",
        "colab_type": "code",
        "colab": {}
      },
      "source": [
        "sns.boxplot(x=df['Price'])"
      ],
      "execution_count": null,
      "outputs": []
    },
    {
      "cell_type": "code",
      "metadata": {
        "id": "YUKvZYOQZf72",
        "colab_type": "code",
        "colab": {}
      },
      "source": [
        "Q1=df.quantile(0.25)    #Whisker 1\n",
        "Q3=df.quantile(0.75)    #whisker 2\n",
        "IQR=Q3-Q1               #interquartile range here\n",
        "print(IQR)"
      ],
      "execution_count": null,
      "outputs": []
    },
    {
      "cell_type": "code",
      "metadata": {
        "id": "tOrEfl3sZ009",
        "colab_type": "code",
        "colab": {}
      },
      "source": [
        "df=df[~((df<(Q1-1.5*IQR))| (df>(Q3+1.5*IQR))).any(axis=1)]      #Standard formula but we can also use mean to \n",
        "df.shape"
      ],
      "execution_count": null,
      "outputs": []
    },
    {
      "cell_type": "markdown",
      "metadata": {
        "id": "uRU42vmga-26",
        "colab_type": "text"
      },
      "source": [
        "#**6. Most represented car brands**\n",
        "\n",
        "In this section we will find top 10 car brands and calculate there average price of the car in that car brand."
      ]
    },
    {
      "cell_type": "code",
      "metadata": {
        "id": "k7hL659DdPF5",
        "colab_type": "code",
        "colab": {}
      },
      "source": [
        "#Percentage of car brand\n",
        "counts=df['Make'].value_counts()*100/sum(df['Make'].value_counts())\n",
        "\n",
        "#Top 10car brands\n",
        "popular_labels=counts.index[:10]\n",
        "\n",
        "#Plot\n",
        "plt.figure(figsize=(14,6))\n",
        "plt.barh(popular_labels,width=counts[:10])\n",
        "plt.title('Top 10 car brands')\n",
        "plt.show()"
      ],
      "execution_count": null,
      "outputs": []
    },
    {
      "cell_type": "code",
      "metadata": {
        "id": "tpWvIsqXAjS-",
        "colab_type": "code",
        "colab": {}
      },
      "source": [
        "prices=df[['Make','Price']].loc[(df['Make']==  'Chevrolet') |\n",
        "                               (df['Make']=='Ford') |\n",
        "                               (df['Make']=='Volkswagen') |\n",
        "                               (df['Make']=='Toyota') |\n",
        "                               (df['Make']=='Dodge') |\n",
        "                               (df['Make']=='Nissan') |\n",
        "                               (df['Make']=='GMC') |\n",
        "                               (df['Make']=='Honda') |\n",
        "                               (df['Make']=='Mazda')].groupby('Make').mean()\n",
        "print(prices)"
      ],
      "execution_count": null,
      "outputs": []
    },
    {
      "cell_type": "markdown",
      "metadata": {
        "id": "uKC0lEmbFE8i",
        "colab_type": "text"
      },
      "source": [
        "#**7. Correlation matrix** "
      ]
    },
    {
      "cell_type": "code",
      "metadata": {
        "id": "MXzUyRPBFBEC",
        "colab_type": "code",
        "colab": {}
      },
      "source": [
        "df.corr()"
      ],
      "execution_count": null,
      "outputs": []
    }
  ]
}